{
 "cells": [
  {
   "cell_type": "code",
   "execution_count": 26,
   "metadata": {},
   "outputs": [],
   "source": [
    "import numpy as np \n",
    "import pandas as pd\n",
    "import matplotlib.pyplot as plt\n",
    "import seaborn as sb\n",
    "import statsmodels.api as sm\n",
    "sb.set()\n",
    "from scipy import stats\n",
    "stats.chisqprob = lambda chisq, df: stats.chi2.sf(chisq, df)"
   ]
  },
  {
   "cell_type": "code",
   "execution_count": 27,
   "metadata": {},
   "outputs": [
    {
     "data": {
      "text/html": [
       "<div>\n",
       "<style scoped>\n",
       "    .dataframe tbody tr th:only-of-type {\n",
       "        vertical-align: middle;\n",
       "    }\n",
       "\n",
       "    .dataframe tbody tr th {\n",
       "        vertical-align: top;\n",
       "    }\n",
       "\n",
       "    .dataframe thead th {\n",
       "        text-align: right;\n",
       "    }\n",
       "</style>\n",
       "<table border=\"1\" class=\"dataframe\">\n",
       "  <thead>\n",
       "    <tr style=\"text-align: right;\">\n",
       "      <th></th>\n",
       "      <th>SAT</th>\n",
       "      <th>Admitted</th>\n",
       "    </tr>\n",
       "  </thead>\n",
       "  <tbody>\n",
       "    <tr>\n",
       "      <th>0</th>\n",
       "      <td>1363</td>\n",
       "      <td>No</td>\n",
       "    </tr>\n",
       "    <tr>\n",
       "      <th>1</th>\n",
       "      <td>1792</td>\n",
       "      <td>Yes</td>\n",
       "    </tr>\n",
       "    <tr>\n",
       "      <th>2</th>\n",
       "      <td>1954</td>\n",
       "      <td>Yes</td>\n",
       "    </tr>\n",
       "    <tr>\n",
       "      <th>3</th>\n",
       "      <td>1653</td>\n",
       "      <td>No</td>\n",
       "    </tr>\n",
       "    <tr>\n",
       "      <th>4</th>\n",
       "      <td>1593</td>\n",
       "      <td>No</td>\n",
       "    </tr>\n",
       "    <tr>\n",
       "      <th>5</th>\n",
       "      <td>1755</td>\n",
       "      <td>Yes</td>\n",
       "    </tr>\n",
       "  </tbody>\n",
       "</table>\n",
       "</div>"
      ],
      "text/plain": [
       "    SAT Admitted\n",
       "0  1363       No\n",
       "1  1792      Yes\n",
       "2  1954      Yes\n",
       "3  1653       No\n",
       "4  1593       No\n",
       "5  1755      Yes"
      ]
     },
     "execution_count": 27,
     "metadata": {},
     "output_type": "execute_result"
    }
   ],
   "source": [
    "df = pd.read_csv('2.01. Admittance.csv')\n",
    "df.head(6)"
   ]
  },
  {
   "cell_type": "code",
   "execution_count": 28,
   "metadata": {},
   "outputs": [
    {
     "data": {
      "text/html": [
       "<div>\n",
       "<style scoped>\n",
       "    .dataframe tbody tr th:only-of-type {\n",
       "        vertical-align: middle;\n",
       "    }\n",
       "\n",
       "    .dataframe tbody tr th {\n",
       "        vertical-align: top;\n",
       "    }\n",
       "\n",
       "    .dataframe thead th {\n",
       "        text-align: right;\n",
       "    }\n",
       "</style>\n",
       "<table border=\"1\" class=\"dataframe\">\n",
       "  <thead>\n",
       "    <tr style=\"text-align: right;\">\n",
       "      <th></th>\n",
       "      <th>SAT</th>\n",
       "      <th>Admitted</th>\n",
       "    </tr>\n",
       "  </thead>\n",
       "  <tbody>\n",
       "    <tr>\n",
       "      <th>0</th>\n",
       "      <td>1363</td>\n",
       "      <td>0</td>\n",
       "    </tr>\n",
       "    <tr>\n",
       "      <th>1</th>\n",
       "      <td>1792</td>\n",
       "      <td>1</td>\n",
       "    </tr>\n",
       "    <tr>\n",
       "      <th>2</th>\n",
       "      <td>1954</td>\n",
       "      <td>1</td>\n",
       "    </tr>\n",
       "    <tr>\n",
       "      <th>3</th>\n",
       "      <td>1653</td>\n",
       "      <td>0</td>\n",
       "    </tr>\n",
       "    <tr>\n",
       "      <th>4</th>\n",
       "      <td>1593</td>\n",
       "      <td>0</td>\n",
       "    </tr>\n",
       "    <tr>\n",
       "      <th>5</th>\n",
       "      <td>1755</td>\n",
       "      <td>1</td>\n",
       "    </tr>\n",
       "    <tr>\n",
       "      <th>6</th>\n",
       "      <td>1775</td>\n",
       "      <td>1</td>\n",
       "    </tr>\n",
       "    <tr>\n",
       "      <th>7</th>\n",
       "      <td>1887</td>\n",
       "      <td>1</td>\n",
       "    </tr>\n",
       "    <tr>\n",
       "      <th>8</th>\n",
       "      <td>1893</td>\n",
       "      <td>1</td>\n",
       "    </tr>\n",
       "    <tr>\n",
       "      <th>9</th>\n",
       "      <td>1580</td>\n",
       "      <td>0</td>\n",
       "    </tr>\n",
       "    <tr>\n",
       "      <th>10</th>\n",
       "      <td>1857</td>\n",
       "      <td>1</td>\n",
       "    </tr>\n",
       "  </tbody>\n",
       "</table>\n",
       "</div>"
      ],
      "text/plain": [
       "     SAT  Admitted\n",
       "0   1363         0\n",
       "1   1792         1\n",
       "2   1954         1\n",
       "3   1653         0\n",
       "4   1593         0\n",
       "5   1755         1\n",
       "6   1775         1\n",
       "7   1887         1\n",
       "8   1893         1\n",
       "9   1580         0\n",
       "10  1857         1"
      ]
     },
     "execution_count": 28,
     "metadata": {},
     "output_type": "execute_result"
    }
   ],
   "source": [
    "data = df.copy()\n",
    "data['Admitted'] = data['Admitted'].map({'No':0,'Yes':1})\n",
    "data.head(11)"
   ]
  },
  {
   "cell_type": "code",
   "execution_count": 29,
   "metadata": {},
   "outputs": [],
   "source": [
    "y = data['Admitted']\n",
    "x1 = data['SAT']"
   ]
  },
  {
   "cell_type": "code",
   "execution_count": 30,
   "metadata": {},
   "outputs": [
    {
     "data": {
      "image/png": "[encoded data removed]",
      "text/plain": [
       "<Figure size 432x288 with 1 Axes>"
      ]
     },
     "metadata": {},
     "output_type": "display_data"
    }
   ],
   "source": [
    "plt.scatter(x1, y)\n",
    "plt.xlabel('SAT', fontsize=20)\n",
    "plt.ylabel('Admitted', fontsize=20)\n",
    "plt.show()"
   ]
  },
  {
   "cell_type": "code",
   "execution_count": 31,
   "metadata": {},
   "outputs": [
    {
     "name": "stdout",
     "output_type": "stream",
     "text": [
      "Optimization terminated successfully.\n",
      "         Current function value: 0.137766\n",
      "         Iterations 10\n"
     ]
    }
   ],
   "source": [
    "x = sm.add_constant(x1)\n",
    "reg_log = sm.Logit(y, x)\n",
    "result = reg_log.fit()"
   ]
  },
  {
   "cell_type": "code",
   "execution_count": 32,
   "metadata": {},
   "outputs": [
    {
     "data": {
      "text/html": [
       "<table class=\"simpletable\">\n",
       "<caption>Logit Regression Results</caption>\n",
       "<tr>\n",
       "  <th>Dep. Variable:</th>     <td>Admitted</td>     <th>  No. Observations:  </th>  <td>   168</td>  \n",
       "</tr>\n",
       "<tr>\n",
       "  <th>Model:</th>               <td>Logit</td>      <th>  Df Residuals:      </th>  <td>   166</td>  \n",
       "</tr>\n",
       "<tr>\n",
       "  <th>Method:</th>               <td>MLE</td>       <th>  Df Model:          </th>  <td>     1</td>  \n",
       "</tr>\n",
       "<tr>\n",
       "  <th>Date:</th>          <td>Sun, 12 May 2019</td> <th>  Pseudo R-squ.:     </th>  <td>0.7992</td>  \n",
       "</tr>\n",
       "<tr>\n",
       "  <th>Time:</th>              <td>11:03:13</td>     <th>  Log-Likelihood:    </th> <td> -23.145</td> \n",
       "</tr>\n",
       "<tr>\n",
       "  <th>converged:</th>           <td>True</td>       <th>  LL-Null:           </th> <td> -115.26</td> \n",
       "</tr>\n",
       "<tr>\n",
       "  <th> </th>                      <td> </td>        <th>  LLR p-value:       </th> <td>5.805e-42</td>\n",
       "</tr>\n",
       "</table>\n",
       "<table class=\"simpletable\">\n",
       "<tr>\n",
       "    <td></td>       <th>coef</th>     <th>std err</th>      <th>z</th>      <th>P>|z|</th>  <th>[0.025</th>    <th>0.975]</th>  \n",
       "</tr>\n",
       "<tr>\n",
       "  <th>const</th> <td>  -69.9128</td> <td>   15.737</td> <td>   -4.443</td> <td> 0.000</td> <td> -100.756</td> <td>  -39.070</td>\n",
       "</tr>\n",
       "<tr>\n",
       "  <th>SAT</th>   <td>    0.0420</td> <td>    0.009</td> <td>    4.454</td> <td> 0.000</td> <td>    0.024</td> <td>    0.060</td>\n",
       "</tr>\n",
       "</table><br/><br/>Possibly complete quasi-separation: A fraction 0.27 of observations can be<br/>perfectly predicted. This might indicate that there is complete<br/>quasi-separation. In this case some parameters will not be identified."
      ],
      "text/plain": [
       "<class 'statsmodels.iolib.summary.Summary'>\n",
       "\"\"\"\n",
       "                           Logit Regression Results                           \n",
       "==============================================================================\n",
       "Dep. Variable:               Admitted   No. Observations:                  168\n",
       "Model:                          Logit   Df Residuals:                      166\n",
       "Method:                           MLE   Df Model:                            1\n",
       "Date:                Sun, 12 May 2019   Pseudo R-squ.:                  0.7992\n",
       "Time:                        11:03:13   Log-Likelihood:                -23.145\n",
       "converged:                       True   LL-Null:                       -115.26\n",
       "                                        LLR p-value:                 5.805e-42\n",
       "==============================================================================\n",
       "                 coef    std err          z      P>|z|      [0.025      0.975]\n",
       "------------------------------------------------------------------------------\n",
       "const        -69.9128     15.737     -4.443      0.000    -100.756     -39.070\n",
       "SAT            0.0420      0.009      4.454      0.000       0.024       0.060\n",
       "==============================================================================\n",
       "\n",
       "Possibly complete quasi-separation: A fraction 0.27 of observations can be\n",
       "perfectly predicted. This might indicate that there is complete\n",
       "quasi-separation. In this case some parameters will not be identified.\n",
       "\"\"\""
      ]
     },
     "execution_count": 32,
     "metadata": {},
     "output_type": "execute_result"
    }
   ],
   "source": [
    "result.summary()"
   ]
  },
  {
   "cell_type": "code",
   "execution_count": 33,
   "metadata": {},
   "outputs": [
    {
     "data": {
      "image/png": "[encoded data removed]",
      "text/plain": [
       "<Figure size 432x288 with 1 Axes>"
      ]
     },
     "metadata": {},
     "output_type": "display_data"
    }
   ],
   "source": [
    "def f(x, b0, b1):\n",
    "    return np.array(np.exp(b0 + x*b1)/ (1 + np.exp(b0 + x*b1)))\n",
    "\n",
    "f_sorted = np.sort(f(x1, result.params[0], result.params[1]))\n",
    "x_sorted = np.sort(np.array(x1))\n",
    "plt.scatter(x1, y)\n",
    "plt.xlabel('SAT', fontsize=20)\n",
    "plt.ylabel('Admitted', fontsize=20)\n",
    "plt.plot(x_sorted, f_sorted, color='red')\n",
    "plt.show()"
   ]
  },
  {
   "cell_type": "code",
   "execution_count": 34,
   "metadata": {},
   "outputs": [
    {
     "data": {
      "text/plain": [
       "array([3.17509804e-06, 9.95320711e-01, 9.99994789e-01, 3.82545559e-01,\n",
       "       4.74688306e-02, 9.78241219e-01, 9.90489815e-01, 9.99913075e-01,\n",
       "       9.99932439e-01, 2.80555331e-02, 9.99693576e-01, 9.99883365e-01,\n",
       "       4.95824098e-01, 3.31130788e-06, 7.68780343e-01, 9.99588875e-01,\n",
       "       2.11008877e-01, 2.18086901e-01, 2.32751342e-01, 9.99666730e-01,\n",
       "       9.99998697e-01, 9.99999144e-01, 3.78484857e-05, 1.40058570e-03,\n",
       "       9.11780281e-01, 9.99878362e-01, 2.18086901e-01, 9.96920696e-01,\n",
       "       9.99571245e-01, 9.84988046e-01, 1.86723145e-04, 6.09532977e-01,\n",
       "       4.12717426e-01, 9.99999674e-01, 9.99588875e-01, 9.99781012e-01,\n",
       "       4.95824098e-01, 9.99836790e-01, 3.92515016e-01, 1.11951035e-05,\n",
       "       3.72881439e-02, 1.97361936e-01, 9.99986307e-01, 4.26043595e-06,\n",
       "       9.97797608e-01, 2.70466415e-05, 9.83006220e-01, 3.81272805e-04,\n",
       "       5.56342322e-04, 1.28281107e-02, 7.78868807e-03, 9.99999908e-01,\n",
       "       7.97292345e-01, 6.06406209e-03, 9.99987928e-01, 7.99999369e-06,\n",
       "       5.58561299e-01, 9.50997566e-01, 2.18086901e-01, 9.91249418e-01,\n",
       "       8.12010613e-03, 8.93361262e-01, 9.99982382e-01, 9.99424768e-01,\n",
       "       9.93987534e-01, 6.53414596e-05, 8.70110288e-06, 2.41557378e-03,\n",
       "       9.99997843e-01, 6.53414596e-05, 8.89292965e-01, 2.18086901e-01,\n",
       "       2.20878399e-04, 9.95696135e-01, 9.99666730e-01, 9.99994565e-01,\n",
       "       2.72485399e-04, 4.85326998e-01, 9.99962475e-01, 9.99998851e-01,\n",
       "       5.81606838e-03, 9.97605054e-01, 9.99996852e-01, 6.48708934e-01,\n",
       "       9.99999688e-01, 9.99999598e-01, 3.22323161e-04, 9.99998177e-01,\n",
       "       9.94233430e-01, 7.20996094e-01, 5.99490987e-01, 3.97622735e-04,\n",
       "       9.50997566e-01, 9.11780281e-01, 7.78368880e-04, 9.99996576e-01,\n",
       "       9.99448417e-01, 8.12010613e-03, 9.84988046e-01, 8.80747681e-01,\n",
       "       9.90489815e-01, 3.67195895e-03, 9.92592781e-01, 2.69325537e-02,\n",
       "       2.97843145e-03, 9.91606351e-01, 9.87797140e-01, 9.98775594e-01,\n",
       "       4.50998879e-04, 2.20878399e-04, 4.38114775e-02, 5.16820085e-01,\n",
       "       1.51356511e-04, 9.99987928e-01, 1.60448635e-01, 9.39130917e-07,\n",
       "       9.15101099e-01, 3.50561492e-04, 4.74842828e-01, 9.99740956e-01,\n",
       "       9.99988901e-01, 2.02101782e-02, 1.40058570e-03, 5.29641245e-05,\n",
       "       9.99926518e-01, 8.12010613e-03, 9.61493870e-01, 7.45626764e-01,\n",
       "       7.20996094e-01, 9.40229806e-01, 5.99490987e-01, 3.50561492e-04,\n",
       "       9.99996276e-01, 3.82888121e-03, 7.15694599e-04, 1.08890584e-03,\n",
       "       9.99997751e-01, 8.23391338e-02, 2.48673397e-05, 1.08656392e-02,\n",
       "       9.98611387e-01, 9.82290106e-01, 7.03787258e-01, 9.89664961e-01,\n",
       "       9.98874143e-01, 1.51396041e-02, 1.52314535e-03, 5.03991985e-06,\n",
       "       1.63383507e-05, 8.29130993e-01, 9.99995209e-01, 9.99987410e-01,\n",
       "       9.99124740e-01, 9.99932439e-01, 9.99087226e-01, 5.80195312e-04,\n",
       "       9.99999865e-01, 9.99588875e-01, 9.99886535e-03, 9.99999674e-01,\n",
       "       4.74688306e-02, 9.99987928e-01, 9.97605054e-01, 9.18308113e-01,\n",
       "       9.73291832e-01, 9.99886535e-03, 2.73909368e-03, 1.94731925e-04])"
      ]
     },
     "execution_count": 34,
     "metadata": {},
     "output_type": "execute_result"
    }
   ],
   "source": [
    "result.predict() # all predicted values"
   ]
  },
  {
   "cell_type": "code",
   "execution_count": 35,
   "metadata": {},
   "outputs": [
    {
     "data": {
      "text/plain": [
       "array([0, 1, 1, 0, 0, 1, 1, 1, 1, 0, 1, 1, 1, 0, 0, 1, 0, 0, 1, 1, 1, 1,\n",
       "       0, 0, 1, 1, 1, 1, 1, 1, 0, 1, 0, 1, 1, 1, 0, 1, 0, 0, 0, 1, 1, 0,\n",
       "       1, 0, 1, 0, 0, 0, 0, 1, 0, 0, 1, 0, 0, 1, 0, 1, 0, 1, 1, 1, 1, 0,\n",
       "       0, 0, 1, 0, 1, 1, 0, 1, 1, 1, 0, 1, 1, 1, 0, 1, 1, 0, 1, 1, 0, 1,\n",
       "       1, 1, 0, 0, 1, 1, 0, 1, 1, 0, 1, 1, 1, 0, 1, 0, 0, 1, 1, 1, 0, 0,\n",
       "       0, 0, 0, 1, 0, 0, 1, 0, 1, 1, 1, 0, 0, 0, 1, 0, 1, 0, 1, 1, 1, 0,\n",
       "       1, 0, 0, 0, 1, 0, 0, 0, 1, 1, 1, 1, 1, 0, 0, 0, 0, 1, 1, 1, 1, 1,\n",
       "       1, 0, 1, 1, 0, 1, 0, 1, 1, 1, 1, 0, 0, 0], dtype=int64)"
      ]
     },
     "execution_count": 35,
     "metadata": {},
     "output_type": "execute_result"
    }
   ],
   "source": [
    "np.array(data['Admitted'])"
   ]
  },
  {
   "cell_type": "code",
   "execution_count": 36,
   "metadata": {},
   "outputs": [
    {
     "data": {
      "text/plain": [
       "array([[67.,  7.],\n",
       "       [ 7., 87.]])"
      ]
     },
     "execution_count": 36,
     "metadata": {},
     "output_type": "execute_result"
    }
   ],
   "source": [
    "pred = result.pred_table()\n",
    "pred"
   ]
  },
  {
   "cell_type": "code",
   "execution_count": 38,
   "metadata": {},
   "outputs": [
    {
     "data": {
      "text/html": [
       "<div>\n",
       "<style scoped>\n",
       "    .dataframe tbody tr th:only-of-type {\n",
       "        vertical-align: middle;\n",
       "    }\n",
       "\n",
       "    .dataframe tbody tr th {\n",
       "        vertical-align: top;\n",
       "    }\n",
       "\n",
       "    .dataframe thead th {\n",
       "        text-align: right;\n",
       "    }\n",
       "</style>\n",
       "<table border=\"1\" class=\"dataframe\">\n",
       "  <thead>\n",
       "    <tr style=\"text-align: right;\">\n",
       "      <th></th>\n",
       "      <th>Predicted 0</th>\n",
       "      <th>Predicted 1</th>\n",
       "    </tr>\n",
       "  </thead>\n",
       "  <tbody>\n",
       "    <tr>\n",
       "      <th>Actual 0</th>\n",
       "      <td>67.0</td>\n",
       "      <td>7.0</td>\n",
       "    </tr>\n",
       "    <tr>\n",
       "      <th>Actual 1</th>\n",
       "      <td>7.0</td>\n",
       "      <td>87.0</td>\n",
       "    </tr>\n",
       "  </tbody>\n",
       "</table>\n",
       "</div>"
      ],
      "text/plain": [
       "          Predicted 0  Predicted 1\n",
       "Actual 0         67.0          7.0\n",
       "Actual 1          7.0         87.0"
      ]
     },
     "execution_count": 38,
     "metadata": {},
     "output_type": "execute_result"
    }
   ],
   "source": [
    "cm_df = pd.DataFrame(pred)\n",
    "cm_df.columns = ['Predicted 0', 'Predicted 1']\n",
    "cm_df = cm_df.rename(index={0:'Actual 0',1:'Actual 1'})\n",
    "cm_df"
   ]
  },
  {
   "cell_type": "code",
   "execution_count": 39,
   "metadata": {},
   "outputs": [
    {
     "data": {
      "text/plain": [
       "0.9166666666666666"
      ]
     },
     "execution_count": 39,
     "metadata": {},
     "output_type": "execute_result"
    }
   ],
   "source": [
    "cm = np.array(cm_df)\n",
    "accuracy = (cm[0,0] + cm[1,1])/cm.sum()\n",
    "accuracy"
   ]
  },
  {
   "cell_type": "code",
   "execution_count": null,
   "metadata": {},
   "outputs": [],
   "source": []
  }
 ],
 "metadata": {
  "kernelspec": {
   "display_name": "Python 3",
   "language": "python",
   "name": "python3"
  },
  "language_info": {
   "codemirror_mode": {
    "name": "ipython",
    "version": 3
   },
   "file_extension": ".py",
   "mimetype": "text/x-python",
   "name": "python",
   "nbconvert_exporter": "python",
   "pygments_lexer": "ipython3",
   "version": "3.7.3"
  }
 },
 "nbformat": 4,
 "nbformat_minor": 2
}
